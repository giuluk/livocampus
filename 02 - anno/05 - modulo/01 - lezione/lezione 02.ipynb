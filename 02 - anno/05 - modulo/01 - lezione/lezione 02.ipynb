{
 "cells": [
  {
   "cell_type": "markdown",
   "id": "4b8b4018",
   "metadata": {},
   "source": [
    "### Equazioni di 1° e 2° grado in x e y - risoluzione sistemi lineari e non lineari\n",
    "#### Lezione 02 - 14 maggio 2025\n",
    "\n",
    "Istituto [Ivo de Carneri](http://www.istitutodecarneri.it) - 2ª BIO, 2ª ODO, 2ª TUR\n",
    "\n",
    "prof. Giuseppe Lucarelli - <lucarelli@istitutodecarneri.it>"
   ]
  },
  {
   "cell_type": "code",
   "execution_count": 17,
   "id": "8f3e0530",
   "metadata": {},
   "outputs": [],
   "source": [
    "# Importing necessary libraries\n",
    "import sympy as sp\n",
    "\n",
    "# Importing matplotlib.pyplot is generally not required for SymPy plots.\n",
    "# However, in some online notebook environments, it ensures that plots are rendered correctly.\n",
    "import matplotlib.pyplot as plt"
   ]
  },
  {
   "cell_type": "code",
   "execution_count": 18,
   "id": "866b8704",
   "metadata": {},
   "outputs": [],
   "source": [
    "# Defining the variables\n",
    "x = sp.Symbol('x')\n",
    "y = sp.Symbol('y')"
   ]
  },
  {
   "cell_type": "code",
   "execution_count": 19,
   "id": "d9c2eaa9",
   "metadata": {},
   "outputs": [],
   "source": [
    "# Defining the expressions for the equations\n",
    "expr1 = 3*x + 2*y -1\n",
    "expr2 = x**2 + x*y + 3*y**2 - 6\n",
    "expr3 = 5*x-y+3\n",
    "\n",
    "# Defining the equations\n",
    "eqzn1 = sp.Eq(expr1, 0)\n",
    "eqzn2 = sp.Eq(expr2, 0)\n",
    "eqzn3 = sp.Eq(expr3, 0)\n",
    "\n",
    "# Defining system equations\n",
    "syst1 = (eqzn1, eqzn2)\n",
    "syst2 = (eqzn1, eqzn3)"
   ]
  },
  {
   "cell_type": "code",
   "execution_count": 23,
   "id": "c68de4cb",
   "metadata": {},
   "outputs": [],
   "source": [
    "# Solving the system of equations\n",
    "sol1 = sp.nonlinsolve(syst1, (x, y))\n",
    "sol2 = sp.linsolve(syst2, (x, y))"
   ]
  },
  {
   "cell_type": "code",
   "execution_count": 24,
   "id": "add39e8a",
   "metadata": {},
   "outputs": [
    {
     "data": {
      "text/latex": [
       "$\\displaystyle \\left\\{\\left( \\frac{8}{25} - \\frac{\\sqrt{589}}{25}, \\  \\frac{1}{50} + \\frac{3 \\sqrt{589}}{50}\\right), \\left( \\frac{8}{25} + \\frac{\\sqrt{589}}{25}, \\  \\frac{1}{50} - \\frac{3 \\sqrt{589}}{50}\\right)\\right\\}$"
      ],
      "text/plain": [
       "{(8/25 - sqrt(589)/25, 1/50 + 3*sqrt(589)/50), (8/25 + sqrt(589)/25, 1/50 - 3*sqrt(589)/50)}"
      ]
     },
     "execution_count": 24,
     "metadata": {},
     "output_type": "execute_result"
    }
   ],
   "source": [
    "# Displaying the solution\n",
    "sol1"
   ]
  },
  {
   "cell_type": "code",
   "execution_count": null,
   "id": "b510aab5",
   "metadata": {},
   "outputs": [
    {
     "data": {
      "text/latex": [
       "$\\displaystyle \\left\\{\\left( - \\frac{5}{13}, \\  \\frac{14}{13}\\right)\\right\\}$"
      ],
      "text/plain": [
       "{(-5/13, 14/13)}"
      ]
     },
     "execution_count": 25,
     "metadata": {},
     "output_type": "execute_result"
    }
   ],
   "source": [
    "# Displaying the solution\n",
    "sol2"
   ]
  },
  {
   "cell_type": "code",
   "execution_count": null,
   "id": "7e3b0783",
   "metadata": {},
   "outputs": [],
   "source": []
  }
 ],
 "metadata": {
  "kernelspec": {
   "display_name": "Python 3",
   "language": "python",
   "name": "python3"
  },
  "language_info": {
   "codemirror_mode": {
    "name": "ipython",
    "version": 3
   },
   "file_extension": ".py",
   "mimetype": "text/x-python",
   "name": "python",
   "nbconvert_exporter": "python",
   "pygments_lexer": "ipython3",
   "version": "3.12.1"
  }
 },
 "nbformat": 4,
 "nbformat_minor": 5
}
