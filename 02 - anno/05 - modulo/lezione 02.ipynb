{
 "cells": [
  {
   "cell_type": "markdown",
   "id": "4b8b4018",
   "metadata": {},
   "source": [
    "### Equazioni di 1° e 2° grado in x e y - risoluzione sistemi lineari e non lineari\n",
    "#### Lezione 02 - 14 maggio 2025\n",
    "\n",
    "Istituto [Ivo de Carneri](http://www.istitutodecarneri.it) - 2ª BIO, 2ª ODO, 2ª TUR\n",
    "\n",
    "prof. Giuseppe Lucarelli - <lucarelli@istitutodecarneri.it>"
   ]
  },
  {
   "cell_type": "code",
   "execution_count": 7,
   "id": "8f3e0530",
   "metadata": {},
   "outputs": [],
   "source": [
    "# Importing necessary libraries\n",
    "import sympy as sp"
   ]
  },
  {
   "cell_type": "code",
   "execution_count": 8,
   "id": "866b8704",
   "metadata": {},
   "outputs": [],
   "source": [
    "# Defining the variables\n",
    "x = sp.Symbol('x')\n",
    "y = sp.Symbol('y')"
   ]
  },
  {
   "cell_type": "code",
   "execution_count": 9,
   "id": "d9c2eaa9",
   "metadata": {},
   "outputs": [],
   "source": [
    "# Defining the expressions for the equations\n",
    "expr1 = 3*x + 2*y -1\n",
    "expr2 = 5*x -   y +3\n",
    "expr3 = x**2 + x*y + 3*y**2 -3*x -4*y - 6\n",
    "\n",
    "# Defining the equations\n",
    "eqzn1 = sp.Eq(expr1, 0)\n",
    "eqzn2 = sp.Eq(expr2, 0)\n",
    "eqzn3 = sp.Eq(expr3, 0)\n",
    "\n",
    "# Defining system equations\n",
    "syst1 = (eqzn1, eqzn2)\n",
    "syst2 = (eqzn1, eqzn3)"
   ]
  },
  {
   "cell_type": "code",
   "execution_count": 10,
   "id": "c68de4cb",
   "metadata": {},
   "outputs": [],
   "source": [
    "# Solving the system of equations\n",
    "sol1 = sp.linsolve(syst1, (x, y))\n",
    "sol2 = sp.nonlinsolve(syst2, (x, y))"
   ]
  },
  {
   "cell_type": "code",
   "execution_count": 11,
   "id": "add39e8a",
   "metadata": {},
   "outputs": [
    {
     "data": {
      "text/latex": [
       "$\\displaystyle \\left\\{\\left( - \\frac{5}{13}, \\  \\frac{14}{13}\\right)\\right\\}$"
      ],
      "text/plain": [
       "{(-5/13, 14/13)}"
      ]
     },
     "execution_count": 11,
     "metadata": {},
     "output_type": "execute_result"
    }
   ],
   "source": [
    "# Displaying the solution for the linear system\n",
    "sol1"
   ]
  },
  {
   "cell_type": "code",
   "execution_count": 12,
   "id": "b510aab5",
   "metadata": {},
   "outputs": [
    {
     "data": {
      "text/latex": [
       "$\\displaystyle \\left\\{\\left( -1, \\  2\\right), \\left( \\frac{29}{25}, \\  - \\frac{31}{25}\\right)\\right\\}$"
      ],
      "text/plain": [
       "{(-1, 2), (29/25, -31/25)}"
      ]
     },
     "execution_count": 12,
     "metadata": {},
     "output_type": "execute_result"
    }
   ],
   "source": [
    "# Displaying the solution for the nonlinear system\n",
    "sol2"
   ]
  }
 ],
 "metadata": {
  "kernelspec": {
   "display_name": "Python 3",
   "language": "python",
   "name": "python3"
  },
  "language_info": {
   "codemirror_mode": {
    "name": "ipython",
    "version": 3
   },
   "file_extension": ".py",
   "mimetype": "text/x-python",
   "name": "python",
   "nbconvert_exporter": "python",
   "pygments_lexer": "ipython3",
   "version": "3.12.1"
  }
 },
 "nbformat": 4,
 "nbformat_minor": 5
}
